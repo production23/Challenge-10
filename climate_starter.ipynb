# Import dependencies
import pandas as pd
import numpy as np
import matplotlib.pyplot as plt
from sqlalchemy import create_engine, func
from sqlalchemy.ext.automap import automap_base
from sqlalchemy.orm import Session
import datetime as dt

# Connect to SQLite database
engine = create_engine("sqlite:///hawaii.sqlite")

# Reflect the database into ORM classes
Base = automap_base()
Base.prepare(engine, reflect=True)

# Save references to each table
Measurement = Base.classes.measurement
Station = Base.classes.station

# Create a session
session = Session(engine)

# Precipitation Analysis
# Find the most recent date in the dataset
recent_date = session.query(func.max(Measurement.date)).scalar()
recent_date

# Calculate the date one year ago from the most recent date
one_year_ago = dt.datetime.strptime(recent_date, '%Y-%m-%d') - dt.timedelta(days=365)

# Query for the last 12 months of precipitation data
precipitation_data = session.query(Measurement.date, Measurement.prcp).filter(Measurement.date >= one_year_ago).all()

# Load query results into a DataFrame
precipitation_df = pd.DataFrame(precipitation_data, columns=['date', 'prcp'])

# Sort the DataFrame by date
precipitation_df = precipitation_df.sort_values(by='date')

# Plot the results
precipitation_df.plot(x='date', y='prcp', figsize=(10, 6), title='Precipitation Over Last 12 Months')
plt.xlabel('Date')
plt.ylabel('Precipitation (inches)')
plt.show()

# Print summary statistics for the precipitation data
precipitation_df.describe()

# Station Analysis
# Design a query to calculate the total number of stations
total_stations = session.query(func.count(Station.station)).scalar()
total_stations

# Design a query to find the most-active stations
active_stations = session.query(Measurement.station, func.count(Measurement.station)).group_by(Measurement.station).order_by(func.count(Measurement.station).desc()).all()
active_stations

# Find the station with the highest number of observations
most_active_station = active_stations[0][0]

# Calculate the lowest, highest, and average temperatures for the most-active station
temperature_stats = session.query(func.min(Measurement.tobs), func.max(Measurement.tobs), func.avg(Measurement.tobs)).filter(Measurement.station == most_active_station).all()
temperature_stats

# Query the last 12 months of temperature observation data for the most-active station
tobs_data = session.query(Measurement.date, Measurement.tobs).filter(Measurement.station == most_active_station).filter(Measurement.date >= one_year_ago).all()

# Load the query results into a DataFrame
tobs_df = pd.DataFrame(tobs_data, columns=['date', 'tobs'])

# Plot the results as a histogram
tobs_df['tobs'].plot(kind='hist', bins=12, figsize=(10, 6), title='Temperature Observations for Last 12 Months')
plt.xlabel('Temperature (F)')
plt.ylabel('Frequency')
plt.show()

# Close the session
session.close()
